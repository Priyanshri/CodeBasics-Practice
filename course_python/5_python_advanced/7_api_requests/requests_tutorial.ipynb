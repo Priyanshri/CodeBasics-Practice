{
 "cells": [
  {
   "cell_type": "markdown",
   "id": "8ae4a985",
   "metadata": {},
   "source": [
    "<h2 align=\"center\" style=\"color:blue\">Codebasics Python Course: Interacting with API Tutorial</h2>"
   ]
  },
  {
   "cell_type": "code",
   "execution_count": 11,
   "id": "4cd401c6",
   "metadata": {},
   "outputs": [],
   "source": [
    "import requests"
   ]
  },
  {
   "cell_type": "markdown",
   "id": "4f708ddb",
   "metadata": {},
   "source": [
    "### GET Request"
   ]
  },
  {
   "cell_type": "code",
   "execution_count": 12,
   "id": "49a155bb",
   "metadata": {},
   "outputs": [
    {
     "data": {
      "text/plain": [
       "<Response [200]>"
      ]
     },
     "execution_count": 12,
     "metadata": {},
     "output_type": "execute_result"
    }
   ],
   "source": [
    "# URL of the API endpoint\n",
    "url = \"https://jsonplaceholder.typicode.com/posts\"\n",
    "\n",
    "# Sending a GET request\n",
    "response = requests.get(url)\n",
    "response"
   ]
  },
  {
   "cell_type": "code",
   "execution_count": 13,
   "id": "ade4a31c",
   "metadata": {},
   "outputs": [
    {
     "data": {
      "text/plain": [
       "200"
      ]
     },
     "execution_count": 13,
     "metadata": {},
     "output_type": "execute_result"
    }
   ],
   "source": [
    "response.status_code  # Should return 200 for a successful request"
   ]
  },
  {
   "cell_type": "code",
   "execution_count": 4,
   "id": "3ce7082f",
   "metadata": {},
   "outputs": [
    {
     "data": {
      "text/plain": [
       "['__attrs__',\n",
       " '__bool__',\n",
       " '__class__',\n",
       " '__delattr__',\n",
       " '__dict__',\n",
       " '__dir__',\n",
       " '__doc__',\n",
       " '__enter__',\n",
       " '__eq__',\n",
       " '__exit__',\n",
       " '__firstlineno__',\n",
       " '__format__',\n",
       " '__ge__',\n",
       " '__getattribute__',\n",
       " '__getstate__',\n",
       " '__gt__',\n",
       " '__hash__',\n",
       " '__init__',\n",
       " '__init_subclass__',\n",
       " '__iter__',\n",
       " '__le__',\n",
       " '__lt__',\n",
       " '__module__',\n",
       " '__ne__',\n",
       " '__new__',\n",
       " '__nonzero__',\n",
       " '__reduce__',\n",
       " '__reduce_ex__',\n",
       " '__repr__',\n",
       " '__setattr__',\n",
       " '__setstate__',\n",
       " '__sizeof__',\n",
       " '__static_attributes__',\n",
       " '__str__',\n",
       " '__subclasshook__',\n",
       " '__weakref__',\n",
       " '_content',\n",
       " '_content_consumed',\n",
       " '_next',\n",
       " 'apparent_encoding',\n",
       " 'close',\n",
       " 'connection',\n",
       " 'content',\n",
       " 'cookies',\n",
       " 'elapsed',\n",
       " 'encoding',\n",
       " 'headers',\n",
       " 'history',\n",
       " 'is_permanent_redirect',\n",
       " 'is_redirect',\n",
       " 'iter_content',\n",
       " 'iter_lines',\n",
       " 'json',\n",
       " 'links',\n",
       " 'next',\n",
       " 'ok',\n",
       " 'raise_for_status',\n",
       " 'raw',\n",
       " 'reason',\n",
       " 'request',\n",
       " 'status_code',\n",
       " 'text',\n",
       " 'url']"
      ]
     },
     "execution_count": 4,
     "metadata": {},
     "output_type": "execute_result"
    }
   ],
   "source": [
    "dir(response)"
   ]
  },
  {
   "cell_type": "code",
   "execution_count": 5,
   "id": "5c7b2486",
   "metadata": {},
   "outputs": [
    {
     "name": "stdout",
     "output_type": "stream",
     "text": [
      "{'userId': 1, 'id': 1, 'title': 'sunt aut facere repellat provident occaecati excepturi optio reprehenderit', 'body': 'quia et suscipit\\nsuscipit recusandae consequuntur expedita et cum\\nreprehenderit molestiae ut ut quas totam\\nnostrum rerum est autem sunt rem eveniet architecto'}\n"
     ]
    }
   ],
   "source": [
    "# Checking the status code of the response\n",
    "if response.status_code == 200:\n",
    "    # Parsing the JSON data\n",
    "    data = response.json()\n",
    "    # Printing the first post\n",
    "    print(data[0])\n",
    "else:\n",
    "    print(\"Failed to retrieve data\")"
   ]
  },
  {
   "cell_type": "markdown",
   "id": "70a2c976",
   "metadata": {},
   "source": [
    "### POST Request"
   ]
  },
  {
   "cell_type": "code",
   "execution_count": 14,
   "id": "3d99bb9e",
   "metadata": {},
   "outputs": [
    {
     "data": {
      "text/plain": [
       "201"
      ]
     },
     "execution_count": 14,
     "metadata": {},
     "output_type": "execute_result"
    }
   ],
   "source": [
    "# URL of the API endpoint\n",
    "url = \"https://jsonplaceholder.typicode.com/posts\"\n",
    "\n",
    "# Data to send in the POST request\n",
    "data = {\n",
    "    \"title\": \"foo\",\n",
    "    \"body\": \"bar\",\n",
    "    \"userId\": 1\n",
    "}\n",
    "\n",
    "# Sending a POST request\n",
    "response = requests.post(url, json=data)\n",
    "response.status_code\n"
   ]
  },
  {
   "cell_type": "code",
   "execution_count": 15,
   "id": "77ea6b74",
   "metadata": {},
   "outputs": [
    {
     "name": "stdout",
     "output_type": "stream",
     "text": [
      "{'title': 'foo', 'body': 'bar', 'userId': 1, 'id': 101}\n"
     ]
    }
   ],
   "source": [
    "# Checking the status code of the response\n",
    "if response.status_code == 201:\n",
    "    # Parsing the JSON data\n",
    "    created_post = response.json()\n",
    "    # Printing the created post\n",
    "    print(created_post)\n",
    "else:\n",
    "    print(\"Failed to create data\")"
   ]
  },
  {
   "cell_type": "markdown",
   "id": "bc49d5fe",
   "metadata": {},
   "source": [
    "#### Common Status Codes\n",
    "\n",
    "1. 200: OK (The request was successful).\n",
    "1. 201: Created (The resource was successfully created).\n",
    "1. 400: Bad Request (The server could not understand the request).\n",
    "1. 401: Unauthorized (Authentication is required).\n",
    "1. 404: Not Found (The requested resource could not be found).\n",
    "1. 500: Internal Server Error (The server encountered an error)."
   ]
  },
  {
   "cell_type": "markdown",
   "id": "415b7a45",
   "metadata": {},
   "source": [
    "### Handling Different Status Codes"
   ]
  },
  {
   "cell_type": "code",
   "execution_count": 7,
   "id": "a3be9742",
   "metadata": {
    "scrolled": true
   },
   "outputs": [
    {
     "name": "stdout",
     "output_type": "stream",
     "text": [
      "Request was successful!\n",
      "{'userId': 1, 'id': 1, 'title': 'sunt aut facere repellat provident occaecati excepturi optio reprehenderit', 'body': 'quia et suscipit\\nsuscipit recusandae consequuntur expedita et cum\\nreprehenderit molestiae ut ut quas totam\\nnostrum rerum est autem sunt rem eveniet architecto'}\n"
     ]
    }
   ],
   "source": [
    "# URL of the API endpoint\n",
    "url = \"https://jsonplaceholder.typicode.com/posts/1\"\n",
    "\n",
    "# Sending a GET request\n",
    "response = requests.get(url)\n",
    "\n",
    "# Handling different status codes\n",
    "if response.status_code == 200:\n",
    "    print(\"Request was successful!\")\n",
    "    print(response.json())\n",
    "elif response.status_code == 404:\n",
    "    print(\"Resource not found.\")\n",
    "else:\n",
    "    print(f\"Failed with status code: {response.status_code}\")"
   ]
  },
  {
   "cell_type": "markdown",
   "id": "3a3d4485",
   "metadata": {},
   "source": [
    "### Send Query Parameter"
   ]
  },
  {
   "cell_type": "code",
   "execution_count": 8,
   "id": "14ea29eb",
   "metadata": {},
   "outputs": [
    {
     "name": "stdout",
     "output_type": "stream",
     "text": [
      "[{'userId': 1, 'id': 1, 'title': 'sunt aut facere repellat provident occaecati excepturi optio reprehenderit', 'body': 'quia et suscipit\\nsuscipit recusandae consequuntur expedita et cum\\nreprehenderit molestiae ut ut quas totam\\nnostrum rerum est autem sunt rem eveniet architecto'}, {'userId': 1, 'id': 2, 'title': 'qui est esse', 'body': 'est rerum tempore vitae\\nsequi sint nihil reprehenderit dolor beatae ea dolores neque\\nfugiat blanditiis voluptate porro vel nihil molestiae ut reiciendis\\nqui aperiam non debitis possimus qui neque nisi nulla'}, {'userId': 1, 'id': 3, 'title': 'ea molestias quasi exercitationem repellat qui ipsa sit aut', 'body': 'et iusto sed quo iure\\nvoluptatem occaecati omnis eligendi aut ad\\nvoluptatem doloribus vel accusantium quis pariatur\\nmolestiae porro eius odio et labore et velit aut'}, {'userId': 1, 'id': 4, 'title': 'eum et est occaecati', 'body': 'ullam et saepe reiciendis voluptatem adipisci\\nsit amet autem assumenda provident rerum culpa\\nquis hic commodi nesciunt rem tenetur doloremque ipsam iure\\nquis sunt voluptatem rerum illo velit'}, {'userId': 1, 'id': 5, 'title': 'nesciunt quas odio', 'body': 'repudiandae veniam quaerat sunt sed\\nalias aut fugiat sit autem sed est\\nvoluptatem omnis possimus esse voluptatibus quis\\nest aut tenetur dolor neque'}, {'userId': 1, 'id': 6, 'title': 'dolorem eum magni eos aperiam quia', 'body': 'ut aspernatur corporis harum nihil quis provident sequi\\nmollitia nobis aliquid molestiae\\nperspiciatis et ea nemo ab reprehenderit accusantium quas\\nvoluptate dolores velit et doloremque molestiae'}, {'userId': 1, 'id': 7, 'title': 'magnam facilis autem', 'body': 'dolore placeat quibusdam ea quo vitae\\nmagni quis enim qui quis quo nemo aut saepe\\nquidem repellat excepturi ut quia\\nsunt ut sequi eos ea sed quas'}, {'userId': 1, 'id': 8, 'title': 'dolorem dolore est ipsam', 'body': 'dignissimos aperiam dolorem qui eum\\nfacilis quibusdam animi sint suscipit qui sint possimus cum\\nquaerat magni maiores excepturi\\nipsam ut commodi dolor voluptatum modi aut vitae'}, {'userId': 1, 'id': 9, 'title': 'nesciunt iure omnis dolorem tempora et accusantium', 'body': 'consectetur animi nesciunt iure dolore\\nenim quia ad\\nveniam autem ut quam aut nobis\\net est aut quod aut provident voluptas autem voluptas'}, {'userId': 1, 'id': 10, 'title': 'optio molestias id quia eum', 'body': 'quo et expedita modi cum officia vel magni\\ndoloribus qui repudiandae\\nvero nisi sit\\nquos veniam quod sed accusamus veritatis error'}]\n"
     ]
    }
   ],
   "source": [
    "import requests\n",
    "\n",
    "# URL of the API endpoint\n",
    "url = \"https://jsonplaceholder.typicode.com/posts\"\n",
    "\n",
    "# Query parameters\n",
    "params = {\n",
    "    \"userId\": 1\n",
    "}\n",
    "\n",
    "# Sending a GET request with query parameters\n",
    "response = requests.get(url, params=params)\n",
    "\n",
    "# Checking the status code of the response\n",
    "if response.status_code == 200:\n",
    "    data = response.json()\n",
    "    print(data)\n",
    "else:\n",
    "    print(\"Failed to retrieve data\")"
   ]
  },
  {
   "cell_type": "markdown",
   "id": "1026b38c",
   "metadata": {},
   "source": [
    "### Crypto API"
   ]
  },
  {
   "cell_type": "code",
   "execution_count": 16,
   "id": "1109185b",
   "metadata": {},
   "outputs": [
    {
     "name": "stdout",
     "output_type": "stream",
     "text": [
      "Network error while connecting to Coindesk: HTTPSConnectionPool(host='api.coindesk.com', port=443): Max retries exceeded with url: /v1/bpi/currentprice.json (Caused by NameResolutionError(\"<urllib3.connection.HTTPSConnection object at 0x00000279D7048F50>: Failed to resolve 'api.coindesk.com' ([Errno 11001] getaddrinfo failed)\"))\n",
      "Using fallback data:\n",
      "USD: N/A USD\n",
      "GBP: N/A GBP\n",
      "EUR: N/A EUR\n"
     ]
    }
   ],
   "source": [
    "# URL of the API endpoint\n",
    "url = \"https://api.coindesk.com/v1/bpi/currentprice.json\"\n",
    "\n",
    "try:\n",
    "    # Sending a GET request with a timeout\n",
    "    response = requests.get(url, timeout=5)\n",
    "    # Raise an exception for HTTP error codes (4xx, 5xx)\n",
    "    response.raise_for_status()\n",
    "    data = response.json()\n",
    "    print(\"Bitcoin Price Index (BPI):\")\n",
    "    print(f\"USD: {data['bpi']['USD']['rate']} USD\")\n",
    "    print(f\"GBP: {data['bpi']['GBP']['rate']} GBP\")\n",
    "    print(f\"EUR: {data['bpi']['EUR']['rate']} EUR\")\n",
    "except requests.exceptions.ConnectionError as e:\n",
    "    # Handle DNS / network errors gracefully\n",
    "    print(\"Network error while connecting to Coindesk:\", e)\n",
    "    # Optional fallback (replace with cached data if available)\n",
    "    fallback = {'bpi': {'USD': {'rate': 'N/A'}, 'GBP': {'rate': 'N/A'}, 'EUR': {'rate': 'N/A'}}}\n",
    "    print(\"Using fallback data:\")\n",
    "    print(f\"USD: {fallback['bpi']['USD']['rate']} USD\")\n",
    "    print(f\"GBP: {fallback['bpi']['GBP']['rate']} GBP\")\n",
    "    print(f\"EUR: {fallback['bpi']['EUR']['rate']} EUR\")\n",
    "except requests.exceptions.RequestException as e:\n",
    "    # Catch-all for other request-related errors (timeout, HTTPError, etc.)\n",
    "    print(\"Error retrieving data:\", e)"
   ]
  },
  {
   "cell_type": "markdown",
   "id": "4d15eb1a",
   "metadata": {},
   "source": [
    "### Currency Conversion API"
   ]
  },
  {
   "cell_type": "code",
   "execution_count": 19,
   "id": "c8bca731",
   "metadata": {},
   "outputs": [
    {
     "data": {
      "text/plain": [
       "<Response [200]>"
      ]
     },
     "execution_count": 19,
     "metadata": {},
     "output_type": "execute_result"
    }
   ],
   "source": [
    "# URL of the API endpoint\n",
    "\n",
    "app_id=\"12fbf9390eef43f8bbc72fcb412e1d83\" # place your app id here\n",
    "url = f\"https://openexchangerates.org/api/latest.json?app_id={app_id}\"\n",
    "\n",
    "# Sending a GET request\n",
    "response = requests.get(url)\n",
    "response"
   ]
  },
  {
   "cell_type": "code",
   "execution_count": 21,
   "id": "fe9c4c2e",
   "metadata": {
    "scrolled": false
   },
   "outputs": [
    {
     "name": "stdout",
     "output_type": "stream",
     "text": [
      "{'disclaimer': 'Usage subject to terms: https://openexchangerates.org/terms', 'license': 'https://openexchangerates.org/license', 'timestamp': 1756047609, 'base': 'USD', 'rates': {'AED': 3.6725, 'AFN': 67.695851, 'ALL': 82.775378, 'AMD': 377.841443, 'ANG': 1.79, 'AOA': 911.955, 'ARS': 1300.08248, 'AUD': 1.546073, 'AWG': 1.80125, 'AZN': 1.7, 'BAM': 1.668131, 'BBD': 2, 'BDT': 120.269511, 'BGN': 1.668131, 'BHD': 0.372894, 'BIF': 2950.161794, 'BMD': 1, 'BND': 1.275108, 'BOB': 6.834407, 'BRL': 5.42115, 'BSD': 1, 'BTC': 8.731488e-06, 'BTN': 86.494084, 'BWP': 13.299501, 'BYN': 3.331144, 'BZD': 1.984221, 'CAD': 1.38385, 'CDF': 2867.172279, 'CHF': 0.808124, 'CLF': 0.024472, 'CLP': 960.02388, 'CNH': 7.17495, 'CNY': 7.1657, 'COP': 3986.60925, 'CRC': 498.869877, 'CUC': 1, 'CUP': 25.75, 'CVE': 94.046656, 'CZK': 20.9232, 'DJF': 176.118337, 'DKK': 6.369, 'DOP': 61.699859, 'DZD': 129.134721, 'EGP': 48.361977, 'ERN': 15, 'ETB': 140.27038, 'EUR': 0.855359, 'FJD': 2.2615, 'FKP': 0.745295, 'GBP': 0.745295, 'GEL': 2.695, 'GGP': 0.745295, 'GHS': 10.903663, 'GIP': 0.745295, 'GMD': 72.5, 'GNF': 8574.398444, 'GTQ': 7.584119, 'GYD': 206.831764, 'HKD': 7.8154, 'HNL': 25.873172, 'HRK': 6.42772, 'HTG': 129.412755, 'HUF': 337.882531, 'IDR': 16233.5, 'ILS': 3.364152, 'IMP': 0.745295, 'INR': 87.3315, 'IQD': 1295.406442, 'IRR': 42050, 'ISK': 122.307954, 'JEP': 0.745295, 'JMD': 158.548291, 'JOD': 0.709, 'JPY': 147.605, 'KES': 127.732526, 'KGS': 87.4274, 'KHR': 4008.352014, 'KMF': 422.499752, 'KPW': 900, 'KRW': 1384.2, 'KWD': 0.302614, 'KYD': 0.824172, 'KZT': 531.63882, 'LAK': 21432.18089, 'LBP': 89003.173386, 'LKR': 298.486079, 'LRD': 198.3027, 'LSL': 17.449529, 'LYD': 5.36654, 'MAD': 8.951085, 'MDL': 16.659985, 'MGA': 4379.735886, 'MKD': 52.485534, 'MMK': 2099, 'MNT': 3592.646, 'MOP': 7.965883, 'MRU': 39.442194, 'MUR': 46.110006, 'MVR': 15.41, 'MWK': 1714.952465, 'MXN': 18.59415, 'MYR': 4.2275, 'MZN': 63.899993, 'NAD': 17.449529, 'NGN': 1518.954154, 'NIO': 36.393875, 'NOK': 10.05555, 'NPR': 138.39055, 'NZD': 1.719543, 'OMR': 0.383951, 'PAB': 1, 'PEN': 3.472643, 'PGK': 4.180136, 'PHP': 56.499749, 'PKR': 280.587576, 'PLN': 3.63555, 'PYG': 7167.876433, 'QAR': 3.605015, 'RON': 4.3106, 'RSD': 99.944568, 'RUB': 79.83283, 'RWF': 1431.61899, 'SAR': 3.7522, 'SBD': 8.217016, 'SCR': 15.053947, 'SDG': 600.5, 'SEK': 9.4981, 'SGD': 1.2846, 'SHP': 0.745295, 'SLE': 23.3, 'SLL': 20969.5, 'SOS': 565.22685, 'SRD': 38.1085, 'SSP': 130.26, 'STD': 22281.8, 'STN': 20.896413, 'SVC': 8.653674, 'SYP': 13002, 'SZL': 17.442108, 'THB': 32.276856, 'TJS': 9.445264, 'TMT': 3.5, 'TND': 2.904005, 'TOP': 2.40776, 'TRY': 41.175001, 'TTD': 6.715851, 'TWD': 30.3823, 'TZS': 2467.651317, 'UAH': 40.877307, 'UGX': 3524.259231, 'USD': 1, 'UYU': 39.583774, 'UZS': 12277.626984, 'VES': 137.95687, 'VND': 26350.275393, 'VUV': 119.1167, 'WST': 2.7716, 'XAF': 561.078612, 'XAG': 0.02571224, 'XAU': 0.0002965, 'XCD': 2.70255, 'XCG': 1.782507, 'XDR': 0.695808, 'XOF': 561.078612, 'XPD': 0.00088079, 'XPF': 102.071459, 'XPT': 0.00073743, 'YER': 240.200111, 'ZAR': 17.44912, 'ZMW': 22.870911, 'ZWG': 26.78, 'ZWL': 322}}\n"
     ]
    }
   ],
   "source": [
    "if response.status_code == 200:\n",
    "    data = response.json()\n",
    "    print(data)"
   ]
  }
 ],
 "metadata": {
  "kernelspec": {
   "display_name": "Python 3",
   "language": "python",
   "name": "python3"
  },
  "language_info": {
   "codemirror_mode": {
    "name": "ipython",
    "version": 3
   },
   "file_extension": ".py",
   "mimetype": "text/x-python",
   "name": "python",
   "nbconvert_exporter": "python",
   "pygments_lexer": "ipython3",
   "version": "3.13.6"
  }
 },
 "nbformat": 4,
 "nbformat_minor": 5
}
