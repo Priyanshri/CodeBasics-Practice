{
 "cells": [
  {
   "cell_type": "markdown",
   "id": "ddb4bbd1",
   "metadata": {},
   "source": [
    "<h2 align=\"center\" style=\"color:blue\">Codebasics Python Course: List, Dict Comprehension Tutorial</h2>"
   ]
  },
  {
   "cell_type": "code",
   "execution_count": 12,
   "id": "06e3ddc2",
   "metadata": {},
   "outputs": [
    {
     "name": "stdout",
     "output_type": "stream",
     "text": [
      "[1, 4, 9, 16, 25]\n"
     ]
    }
   ],
   "source": [
    "numbers = [1,2,3,4,5]\n",
    "sqr_numbers = []\n",
    "\n",
    "for n in numbers:\n",
    "    sqr_numbers.append(n*n)\n",
    "print(sqr_numbers)"
   ]
  },
  {
   "cell_type": "code",
   "execution_count": 13,
   "id": "97dc1047",
   "metadata": {},
   "outputs": [
    {
     "data": {
      "text/plain": [
       "[1, 4, 9, 16, 25]"
      ]
     },
     "execution_count": 13,
     "metadata": {},
     "output_type": "execute_result"
    }
   ],
   "source": [
    "sqr_numbers = [n*n for n in numbers]\n",
    "# this is a list comprehension that creates a list of squared numbers\n",
    "sqr_numbers"
   ]
  },
  {
   "cell_type": "markdown",
   "id": "8b149642",
   "metadata": {},
   "source": [
    "### List Comprehension Offers Better Performance"
   ]
  },
  {
   "cell_type": "code",
   "execution_count": 14,
   "id": "fba2ef77",
   "metadata": {},
   "outputs": [
    {
     "name": "stdout",
     "output_type": "stream",
     "text": [
      "Time taken by for loop: 0.9287526607513428\n"
     ]
    }
   ],
   "source": [
    "import time\n",
    "\n",
    "long_list = range(10000000)\n",
    "sqr_list = []\n",
    "\n",
    "start = time.time()\n",
    "for n in long_list:\n",
    "    sqr_list.append(n*n)\n",
    "end = time.time()\n",
    "print(\"Time taken by for loop:\", (end-start))"
   ]
  },
  {
   "cell_type": "code",
   "execution_count": 15,
   "id": "a1909c3f",
   "metadata": {
    "scrolled": true
   },
   "outputs": [
    {
     "name": "stdout",
     "output_type": "stream",
     "text": [
      "Time taken by list comprehension: 0.8320603370666504\n"
     ]
    }
   ],
   "source": [
    "start = time.time()\n",
    "sqr_list = [n*n for n in long_list]\n",
    "end = time.time()\n",
    "print(\"Time taken by list comprehension:\", (end-start))"
   ]
  },
  {
   "cell_type": "markdown",
   "id": "83036f90",
   "metadata": {},
   "source": [
    "### List Comprehension With Two Lists"
   ]
  },
  {
   "cell_type": "code",
   "execution_count": 16,
   "id": "06f096e8",
   "metadata": {},
   "outputs": [],
   "source": [
    "price = [100,120,80,50]\n",
    "earning_per_share = [9, 15, 40, 2]\n",
    "\n"
   ]
  },
  {
   "cell_type": "code",
   "execution_count": 17,
   "id": "4a498aa1",
   "metadata": {},
   "outputs": [
    {
     "data": {
      "text/plain": [
       "((100, 9), (120, 15), (80, 40), (50, 2))"
      ]
     },
     "execution_count": 17,
     "metadata": {},
     "output_type": "execute_result"
    }
   ],
   "source": [
    "tuple(zip(price, earning_per_share))\n",
    "# this will create a list of tuples where each tuple contains (price, earning_per_share) in pairs"
   ]
  },
  {
   "cell_type": "code",
   "execution_count": 18,
   "id": "3ae2270d",
   "metadata": {},
   "outputs": [
    {
     "data": {
      "text/plain": [
       "[11.11111111111111, 8.0, 2.0, 25.0]"
      ]
     },
     "execution_count": 18,
     "metadata": {},
     "output_type": "execute_result"
    }
   ],
   "source": [
    "pe = [p/e for p, e in zip(price, earning_per_share)]\n",
    "# this will create a list of price to earning ratios ratios which is price divided by earning per share\n",
    "pe"
   ]
  },
  {
   "cell_type": "code",
   "execution_count": 19,
   "id": "cf11983c",
   "metadata": {},
   "outputs": [
    {
     "data": {
      "text/plain": [
       "[11.11111111111111, -1, 2.0, 25.0]"
      ]
     },
     "execution_count": 19,
     "metadata": {},
     "output_type": "execute_result"
    }
   ],
   "source": [
    "price = [100,120,80,50]\n",
    "earning_per_share = [9, 0, 40, 2]\n",
    "\n",
    "# to avoid division by zero error, we can use a conditional expression inside the list comprehension\n",
    "pe = [p/e if e!=0 else -1 for p, e in zip(price, earning_per_share)]\n",
    "pe"
   ]
  },
  {
   "cell_type": "markdown",
   "id": "7b103e73",
   "metadata": {},
   "source": [
    "### Calling a Function in List Comprehension"
   ]
  },
  {
   "cell_type": "code",
   "execution_count": 20,
   "id": "27128729",
   "metadata": {
    "scrolled": true
   },
   "outputs": [
    {
     "name": "stdout",
     "output_type": "stream",
     "text": [
      "[5, 6, 6, 4]\n"
     ]
    }
   ],
   "source": [
    "words = [\"apple\", \"banana\", \"cherry\", \"date\"]\n",
    "lengths = [len(word) for word in words]\n",
    "print(lengths)  "
   ]
  },
  {
   "cell_type": "markdown",
   "id": "002fca60",
   "metadata": {},
   "source": [
    "**Below code shows how you can give a discount to those folks with greater than 100 $ purchase**"
   ]
  },
  {
   "cell_type": "code",
   "execution_count": 21,
   "id": "13f025d9",
   "metadata": {},
   "outputs": [
    {
     "name": "stdout",
     "output_type": "stream",
     "text": [
      "[108.0, 135.0, 180.0]\n"
     ]
    }
   ],
   "source": [
    "prices = [120, 99, 150, 80, 200]\n",
    "discounted_prices = [price * 0.9 for price in prices if price > 100]\n",
    "print(discounted_prices) "
   ]
  },
  {
   "cell_type": "markdown",
   "id": "e4480e4b",
   "metadata": {},
   "source": [
    "### Dictionary Comprehension"
   ]
  },
  {
   "cell_type": "code",
   "execution_count": null,
   "id": "a8986114",
   "metadata": {
    "scrolled": true
   },
   "outputs": [
    {
     "name": "stdout",
     "output_type": "stream",
     "text": [
      "{'Alice': 25, 'Bob': 30, 'Charlie': 35}\n"
     ]
    }
   ],
   "source": [
    "names = [\"Alice\", \"Bob\", \"Charlie\"]\n",
    "ages = [25, 30, 35]\n",
    "\n",
    "# Creating a dictionary using dictionary comprehension\n",
    "name_age_dict = {names[i]: ages[i] for i in range(len(names))}\n",
    "print(name_age_dict)"
   ]
  },
  {
   "cell_type": "markdown",
   "id": "5f37167e",
   "metadata": {},
   "source": [
    "### Set Comprehension"
   ]
  },
  {
   "cell_type": "code",
   "execution_count": 23,
   "id": "ce05bbdc",
   "metadata": {},
   "outputs": [],
   "source": [
    "transactions = [\n",
    "    {'customer_name': \"Mira\", \"amount\": 56, \"date\": \"2024-08-01\"},\n",
    "    {'customer_name': \"Mira\", \"amount\": 12.3, \"date\": \"2024-09-05\"},\n",
    "    {'customer_name': \"Mohan\", \"amount\": 21, \"date\": \"2024-09-03\"},\n",
    "    {'customer_name': \"Mohan\", \"amount\": 36.8, \"date\": \"2024-09-10\"},\n",
    "    {'customer_name': \"Lucy\", \"amount\": 66.3, \"date\": \"2024-09-10\"}\n",
    "]"
   ]
  },
  {
   "cell_type": "code",
   "execution_count": 24,
   "id": "1ebe0704",
   "metadata": {},
   "outputs": [
    {
     "data": {
      "text/plain": [
       "{'Lucy', 'Mira', 'Mohan'}"
      ]
     },
     "execution_count": 24,
     "metadata": {},
     "output_type": "execute_result"
    }
   ],
   "source": [
    "customers = set()\n",
    "\n",
    "for trans in transactions:\n",
    "    customers.add(trans['customer_name'])\n",
    "    \n",
    "customers"
   ]
  },
  {
   "cell_type": "code",
   "execution_count": null,
   "id": "62136c43",
   "metadata": {},
   "outputs": [
    {
     "data": {
      "text/plain": [
       "{'Lucy', 'Mira', 'Mohan'}"
      ]
     },
     "execution_count": 25,
     "metadata": {},
     "output_type": "execute_result"
    }
   ],
   "source": [
    "customers = {trans['customer_name'] for trans in transactions}\n",
    "# this is a set comprehension that creates a set of unique customer names \n",
    "customers"
   ]
  }
 ],
 "metadata": {
  "kernelspec": {
   "display_name": "Python 3",
   "language": "python",
   "name": "python3"
  },
  "language_info": {
   "codemirror_mode": {
    "name": "ipython",
    "version": 3
   },
   "file_extension": ".py",
   "mimetype": "text/x-python",
   "name": "python",
   "nbconvert_exporter": "python",
   "pygments_lexer": "ipython3",
   "version": "3.13.6"
  }
 },
 "nbformat": 4,
 "nbformat_minor": 5
}
