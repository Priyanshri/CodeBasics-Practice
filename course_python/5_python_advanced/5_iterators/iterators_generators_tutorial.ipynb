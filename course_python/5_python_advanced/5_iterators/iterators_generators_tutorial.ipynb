{
 "cells": [
  {
   "cell_type": "markdown",
   "id": "4e666a2a",
   "metadata": {},
   "source": [
    "<h3 align=\"center\" style=\"color:blue\">Codebasics Python Course: Iterators Tutorial</h3>"
   ]
  },
  {
   "cell_type": "markdown",
   "id": "a556459f",
   "metadata": {},
   "source": [
    "#### Iterator Basics"
   ]
  },
  {
   "cell_type": "code",
   "execution_count": 24,
   "id": "ea10f824",
   "metadata": {},
   "outputs": [],
   "source": [
    "prices = []\n",
    "\n",
    "with open(\"pricing.txt\",\"r\") as f:\n",
    "    for line in f:\n",
    "        ticker, country, price, date = line.split(\"|\")\n",
    "        prices.append({\n",
    "            'ticker': ticker,\n",
    "            'country': country,\n",
    "            'price': float(price),\n",
    "            'date': date.strip()\n",
    "        })"
   ]
  },
  {
   "cell_type": "code",
   "execution_count": 25,
   "id": "6e48eae4",
   "metadata": {
    "scrolled": true
   },
   "outputs": [
    {
     "data": {
      "text/plain": [
       "[{'ticker': 'MSFT', 'country': 'BRA', 'price': 381.26, 'date': '2023-10-27'},\n",
       " {'ticker': 'CSCO', 'country': 'USA', 'price': 187.64, 'date': '2023-02-12'}]"
      ]
     },
     "execution_count": 25,
     "metadata": {},
     "output_type": "execute_result"
    }
   ],
   "source": [
    "prices[:2]"
   ]
  },
  {
   "cell_type": "code",
   "execution_count": 26,
   "id": "b43c1dbe",
   "metadata": {},
   "outputs": [
    {
     "data": {
      "text/plain": [
       "['_CHUNK_SIZE',\n",
       " '__class__',\n",
       " '__del__',\n",
       " '__delattr__',\n",
       " '__dict__',\n",
       " '__dir__',\n",
       " '__doc__',\n",
       " '__enter__',\n",
       " '__eq__',\n",
       " '__exit__',\n",
       " '__format__',\n",
       " '__ge__',\n",
       " '__getattribute__',\n",
       " '__getstate__',\n",
       " '__gt__',\n",
       " '__hash__',\n",
       " '__init__',\n",
       " '__init_subclass__',\n",
       " '__iter__',\n",
       " '__le__',\n",
       " '__lt__',\n",
       " '__module__',\n",
       " '__ne__',\n",
       " '__new__',\n",
       " '__next__',\n",
       " '__reduce__',\n",
       " '__reduce_ex__',\n",
       " '__repr__',\n",
       " '__setattr__',\n",
       " '__sizeof__',\n",
       " '__str__',\n",
       " '__subclasshook__',\n",
       " '_checkClosed',\n",
       " '_checkReadable',\n",
       " '_checkSeekable',\n",
       " '_checkWritable',\n",
       " '_finalizing',\n",
       " 'buffer',\n",
       " 'close',\n",
       " 'closed',\n",
       " 'detach',\n",
       " 'encoding',\n",
       " 'errors',\n",
       " 'fileno',\n",
       " 'flush',\n",
       " 'isatty',\n",
       " 'line_buffering',\n",
       " 'mode',\n",
       " 'name',\n",
       " 'newlines',\n",
       " 'read',\n",
       " 'readable',\n",
       " 'readline',\n",
       " 'readlines',\n",
       " 'reconfigure',\n",
       " 'seek',\n",
       " 'seekable',\n",
       " 'tell',\n",
       " 'truncate',\n",
       " 'writable',\n",
       " 'write',\n",
       " 'write_through',\n",
       " 'writelines']"
      ]
     },
     "execution_count": 26,
     "metadata": {},
     "output_type": "execute_result"
    }
   ],
   "source": [
    "dir(f)"
   ]
  },
  {
   "cell_type": "code",
   "execution_count": 27,
   "id": "0ae4a122",
   "metadata": {},
   "outputs": [
    {
     "data": {
      "text/plain": [
       "<_io.TextIOWrapper name='pricing.txt' mode='r' encoding='cp1252'>"
      ]
     },
     "execution_count": 27,
     "metadata": {},
     "output_type": "execute_result"
    }
   ],
   "source": [
    "f = open(\"pricing.txt\",\"r\")\n",
    "iterator = iter(f) # this creates an iterator object\n",
    "iterator"
   ]
  },
  {
   "cell_type": "code",
   "execution_count": 28,
   "id": "41f24e61",
   "metadata": {},
   "outputs": [
    {
     "data": {
      "text/plain": [
       "'MSFT|BRA|381.26|2023-10-27\\n'"
      ]
     },
     "execution_count": 28,
     "metadata": {},
     "output_type": "execute_result"
    }
   ],
   "source": [
    "next(iterator)      # reads the next line from the file"
   ]
  },
  {
   "cell_type": "code",
   "execution_count": 29,
   "id": "248a1855",
   "metadata": {},
   "outputs": [
    {
     "data": {
      "text/plain": [
       "'CSCO|USA|187.64|2023-02-12\\n'"
      ]
     },
     "execution_count": 29,
     "metadata": {},
     "output_type": "execute_result"
    }
   ],
   "source": [
    "next(iterator)"
   ]
  },
  {
   "cell_type": "markdown",
   "id": "edd4618f",
   "metadata": {},
   "source": [
    "#### Implement Custom Iterator Class"
   ]
  },
  {
   "cell_type": "code",
   "execution_count": 30,
   "id": "e0a99f7d",
   "metadata": {},
   "outputs": [],
   "source": [
    "class RemoteControl:\n",
    "    def __init__(self):\n",
    "        self.channels = [\"NDTV\", \"CNN\", \"ESPN\"]\n",
    "        self.index = -1\n",
    "\n",
    "    def __iter__(self):\n",
    "        return self\n",
    "\n",
    "    def __next__(self):\n",
    "        self.index += 1\n",
    "        if self.index == len(self.channels):\n",
    "            raise StopIteration\n",
    "\n",
    "        return self.channels[self.index]        "
   ]
  },
  {
   "cell_type": "code",
   "execution_count": 31,
   "id": "9d986bf3",
   "metadata": {},
   "outputs": [
    {
     "name": "stdout",
     "output_type": "stream",
     "text": [
      "NDTV\n",
      "CNN\n",
      "ESPN\n"
     ]
    }
   ],
   "source": [
    "rc = RemoteControl()\n",
    "\n",
    "for channel in rc:\n",
    "    print(channel)"
   ]
  },
  {
   "cell_type": "code",
   "execution_count": 32,
   "id": "114fd8a3",
   "metadata": {
    "scrolled": false
   },
   "outputs": [],
   "source": [
    "rc = RemoteControl()\n",
    "# Iterating over channels\n",
    "# for _ in range(10):\n",
    "#     print(f\"Tuned to: {next(rc)}\")"
   ]
  },
  {
   "cell_type": "code",
   "execution_count": 33,
   "id": "4a9aa6fe",
   "metadata": {},
   "outputs": [],
   "source": [
    "def remote_control():\n",
    "    yield \"NDTV\" # pauses here and returns this value\n",
    "    yield \"CNN\"\n",
    "    yield \"ESPN\"\n",
    "\n",
    "# by yield we can return multiple values from a function"
   ]
  },
  {
   "cell_type": "code",
   "execution_count": 34,
   "id": "0439f746",
   "metadata": {},
   "outputs": [
    {
     "data": {
      "text/plain": [
       "generator"
      ]
     },
     "execution_count": 34,
     "metadata": {},
     "output_type": "execute_result"
    }
   ],
   "source": [
    "itr = remote_control()\n",
    "type(itr) # generator object\n",
    "\n",
    "# generator is a specific type of object that implements iterator protocol"
   ]
  },
  {
   "cell_type": "code",
   "execution_count": null,
   "id": "0933418e",
   "metadata": {},
   "outputs": [],
   "source": [
    "# for channel in itr:\n",
    "#     print(channel)\n",
    "\n",
    "# to print one by one"
   ]
  },
  {
   "cell_type": "code",
   "execution_count": 36,
   "id": "68ab1859",
   "metadata": {},
   "outputs": [
    {
     "data": {
      "text/plain": [
       "'NDTV'"
      ]
     },
     "execution_count": 36,
     "metadata": {},
     "output_type": "execute_result"
    }
   ],
   "source": [
    "next(itr)"
   ]
  },
  {
   "cell_type": "code",
   "execution_count": 37,
   "id": "69507b3b",
   "metadata": {},
   "outputs": [
    {
     "data": {
      "text/plain": [
       "'CNN'"
      ]
     },
     "execution_count": 37,
     "metadata": {},
     "output_type": "execute_result"
    }
   ],
   "source": [
    "next(itr)"
   ]
  },
  {
   "cell_type": "code",
   "execution_count": 38,
   "id": "1efa353f",
   "metadata": {},
   "outputs": [
    {
     "data": {
      "text/plain": [
       "'ESPN'"
      ]
     },
     "execution_count": 38,
     "metadata": {},
     "output_type": "execute_result"
    }
   ],
   "source": [
    "next(itr)"
   ]
  },
  {
   "cell_type": "code",
   "execution_count": 39,
   "id": "8f836d27",
   "metadata": {},
   "outputs": [],
   "source": [
    "# next(itr)\n",
    "# this will raise StopIteration exception as there are no more values to yield"
   ]
  },
  {
   "cell_type": "code",
   "execution_count": 40,
   "id": "bfabbfca",
   "metadata": {},
   "outputs": [
    {
     "name": "stdout",
     "output_type": "stream",
     "text": [
      "NDTV\n",
      "CNN\n",
      "ESPN\n"
     ]
    }
   ],
   "source": [
    "for channel in remote_control():\n",
    "    print(channel)"
   ]
  },
  {
   "cell_type": "markdown",
   "id": "e89046c1",
   "metadata": {},
   "source": [
    "When we have small data and we are reading all."
   ]
  },
  {
   "cell_type": "code",
   "execution_count": 41,
   "id": "0611c2a3",
   "metadata": {},
   "outputs": [],
   "source": [
    "def get_company_data():\n",
    "    data = []\n",
    "    for i in range(3):\n",
    "        with open(f\"stock_{i+1}.txt\",\"r\") as f:\n",
    "            content = f.read()\n",
    "            data.append(content)\n",
    "    return data            "
   ]
  },
  {
   "cell_type": "code",
   "execution_count": null,
   "id": "a297a6c2",
   "metadata": {},
   "outputs": [
    {
     "data": {
      "text/plain": [
       "['{\\n    \"ticker\": \"AAPL\",\\n    \"price\": 227.67,\\n    \"date\": \"2024-08-28\",\\n    \"pe\": 23.4,\\n    \"market_cap\": 2410000000000.0,\\n    \"dividend_yield\": 0.6,\\n    \"price_to_book\": 31.8,\\n    \"dps\": 0.92,\\n    \"ebitda\": 94680000000.0,\\n    \"price_to_sales\": 7.3,\\n    \"earnings_per_share\": 9.73,\\n    \"revenue\": 387530000000.0,\\n    \"gross_margin\": 43.3,\\n    \"net_profit_margin\": 25.9,\\n    \"debt_to_equity\": 1.8,\\n    \"cash_flow\": 104300000000.0,\\n    \"operating_margin\": 30.2\\n}',\n",
       " '{\\n    \"ticker\": \"RIL\",\\n    \"price\": 2589.75,\\n    \"date\": \"2024-08-28\",\\n    \"pe\": 26.7,\\n    \"market_cap\": 1950000000000.0,\\n    \"dividend_yield\": 0.8,\\n    \"price_to_book\": 2.9,\\n    \"dps\": 15.0,\\n    \"ebitda\": 1100000000000.0,\\n    \"price_to_sales\": 1.5,\\n    \"earnings_per_share\": 97.5,\\n    \"revenue\": 6800000000000.0,\\n    \"gross_margin\": 20.4,\\n    \"net_profit_margin\": 6.3,\\n    \"debt_to_equity\": 0.4,\\n    \"cash_flow\": 820500000000.0\\n}\\n',\n",
       " '{\\n    \"ticker\": \"NVDA\",\\n    \"price\": 492.21,\\n    \"date\": \"2024-08-28\",\\n    \"pe\": 45.3,\\n    \"market_cap\": 1230000000000.0,\\n    \"dividend_yield\": 0.07,\\n    \"price_to_book\": 23.5,\\n    \"dps\": 0.16,\\n    \"ebitda\": 16400000000.0,\\n    \"price_to_sales\": 17.6,\\n    \"earnings_per_share\": 10.85,\\n    \"revenue\": 26900000000.0,\\n    \"gross_margin\": 64.1,\\n    \"net_profit_margin\": 36.2,\\n    \"debt_to_equity\": 0.5,\\n    \"cash_flow\": 9100000000.0,\\n    \"operating_margin\": 40.8\\n}\\n']"
      ]
     },
     "execution_count": 42,
     "metadata": {},
     "output_type": "execute_result"
    }
   ],
   "source": [
    "get_company_data()\n",
    "# create a list of all file contents in memory"
   ]
  },
  {
   "cell_type": "markdown",
   "id": "b1619a04",
   "metadata": {},
   "source": [
    "When we have large data and many files of stocks,"
   ]
  },
  {
   "cell_type": "code",
   "execution_count": null,
   "id": "f0de06c9",
   "metadata": {},
   "outputs": [],
   "source": [
    "def get_company_data():\n",
    "    data = []\n",
    "    for i in range(3):\n",
    "        with open(f\"stock_{i+1}.txt\",\"r\") as f:\n",
    "            content = f.read()\n",
    "            yield content\n",
    "\n",
    "#whever a function has yield it becomes a generator function "
   ]
  },
  {
   "cell_type": "code",
   "execution_count": 44,
   "id": "72badf09",
   "metadata": {
    "scrolled": false
   },
   "outputs": [
    {
     "name": "stdout",
     "output_type": "stream",
     "text": [
      "{\n",
      "    \"ticker\": \"AAPL\",\n",
      "    \"price\": 227.67,\n",
      "    \"date\": \"2024-08-28\",\n",
      "    \"pe\": 23.4,\n",
      "    \"market_cap\": 2410000000000.0,\n",
      "    \"dividend_yield\": 0.6,\n",
      "    \"price_to_book\": 31.8,\n",
      "    \"dps\": 0.92,\n",
      "    \"ebitda\": 94680000000.0,\n",
      "    \"price_to_sales\": 7.3,\n",
      "    \"earnings_per_share\": 9.73,\n",
      "    \"revenue\": 387530000000.0,\n",
      "    \"gross_margin\": 43.3,\n",
      "    \"net_profit_margin\": 25.9,\n",
      "    \"debt_to_equity\": 1.8,\n",
      "    \"cash_flow\": 104300000000.0,\n",
      "    \"operating_margin\": 30.2\n",
      "}\n",
      "{\n",
      "    \"ticker\": \"RIL\",\n",
      "    \"price\": 2589.75,\n",
      "    \"date\": \"2024-08-28\",\n",
      "    \"pe\": 26.7,\n",
      "    \"market_cap\": 1950000000000.0,\n",
      "    \"dividend_yield\": 0.8,\n",
      "    \"price_to_book\": 2.9,\n",
      "    \"dps\": 15.0,\n",
      "    \"ebitda\": 1100000000000.0,\n",
      "    \"price_to_sales\": 1.5,\n",
      "    \"earnings_per_share\": 97.5,\n",
      "    \"revenue\": 6800000000000.0,\n",
      "    \"gross_margin\": 20.4,\n",
      "    \"net_profit_margin\": 6.3,\n",
      "    \"debt_to_equity\": 0.4,\n",
      "    \"cash_flow\": 820500000000.0\n",
      "}\n",
      "\n",
      "{\n",
      "    \"ticker\": \"NVDA\",\n",
      "    \"price\": 492.21,\n",
      "    \"date\": \"2024-08-28\",\n",
      "    \"pe\": 45.3,\n",
      "    \"market_cap\": 1230000000000.0,\n",
      "    \"dividend_yield\": 0.07,\n",
      "    \"price_to_book\": 23.5,\n",
      "    \"dps\": 0.16,\n",
      "    \"ebitda\": 16400000000.0,\n",
      "    \"price_to_sales\": 17.6,\n",
      "    \"earnings_per_share\": 10.85,\n",
      "    \"revenue\": 26900000000.0,\n",
      "    \"gross_margin\": 64.1,\n",
      "    \"net_profit_margin\": 36.2,\n",
      "    \"debt_to_equity\": 0.5,\n",
      "    \"cash_flow\": 9100000000.0,\n",
      "    \"operating_margin\": 40.8\n",
      "}\n",
      "\n"
     ]
    }
   ],
   "source": [
    "for company_data in get_company_data():\n",
    "    print(company_data)"
   ]
  },
  {
   "cell_type": "markdown",
   "id": "b1e9eabe",
   "metadata": {},
   "source": [
    "#### Fibonacci Sequence Generator"
   ]
  },
  {
   "cell_type": "code",
   "execution_count": 45,
   "id": "2326a941",
   "metadata": {},
   "outputs": [
    {
     "name": "stdout",
     "output_type": "stream",
     "text": [
      "0\n",
      "1\n",
      "1\n",
      "2\n",
      "3\n",
      "5\n",
      "8\n",
      "13\n",
      "21\n",
      "34\n"
     ]
    }
   ],
   "source": [
    "def fibonacci():\n",
    "    a, b = 0, 1\n",
    "    while True:\n",
    "        yield a\n",
    "        a, b = b, a + b\n",
    "\n",
    "# Use the generator to get the first 10 Fibonacci numbers\n",
    "fib_gen = fibonacci()\n",
    "for _ in range(10):\n",
    "    print(next(fib_gen))"
   ]
  }
 ],
 "metadata": {
  "kernelspec": {
   "display_name": "Python 3",
   "language": "python",
   "name": "python3"
  },
  "language_info": {
   "codemirror_mode": {
    "name": "ipython",
    "version": 3
   },
   "file_extension": ".py",
   "mimetype": "text/x-python",
   "name": "python",
   "nbconvert_exporter": "python",
   "pygments_lexer": "ipython3",
   "version": "3.13.6"
  }
 },
 "nbformat": 4,
 "nbformat_minor": 5
}
