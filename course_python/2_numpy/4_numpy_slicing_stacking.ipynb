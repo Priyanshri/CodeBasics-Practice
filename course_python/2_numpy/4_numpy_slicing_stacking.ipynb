{
 "cells": [
  {
   "cell_type": "markdown",
   "id": "d8877363",
   "metadata": {},
   "source": [
    "<h2 align=\"center\" style=\"color:blue\">Codebasics Course: Numpy Slicing, Stacking </h2>"
   ]
  },
  {
   "cell_type": "code",
   "execution_count": 1,
   "id": "94c97874",
   "metadata": {},
   "outputs": [],
   "source": [
    "import numpy as np"
   ]
  },
  {
   "cell_type": "markdown",
   "id": "7dc15355",
   "metadata": {},
   "source": [
    "### Indexing, Slicing"
   ]
  },
  {
   "cell_type": "code",
   "execution_count": 2,
   "id": "78f4356a",
   "metadata": {},
   "outputs": [
    {
     "data": {
      "text/plain": [
       "array([6, 7])"
      ]
     },
     "execution_count": 2,
     "metadata": {},
     "output_type": "execute_result"
    }
   ],
   "source": [
    "a = np.array([6,7,8,9])\n",
    "a[0:2]"
   ]
  },
  {
   "cell_type": "code",
   "execution_count": 3,
   "id": "b4fb4ea9",
   "metadata": {},
   "outputs": [
    {
     "data": {
      "text/plain": [
       "array([8, 9])"
      ]
     },
     "execution_count": 3,
     "metadata": {},
     "output_type": "execute_result"
    }
   ],
   "source": [
    "a[2:]"
   ]
  },
  {
   "cell_type": "code",
   "execution_count": 4,
   "id": "65b639e2",
   "metadata": {},
   "outputs": [
    {
     "data": {
      "text/plain": [
       "np.int64(9)"
      ]
     },
     "execution_count": 4,
     "metadata": {},
     "output_type": "execute_result"
    }
   ],
   "source": [
    "a[-1]"
   ]
  },
  {
   "cell_type": "code",
   "execution_count": 5,
   "id": "689cbc48",
   "metadata": {},
   "outputs": [
    {
     "data": {
      "text/plain": [
       "array([8, 9])"
      ]
     },
     "execution_count": 5,
     "metadata": {},
     "output_type": "execute_result"
    }
   ],
   "source": [
    "a[-2:]"
   ]
  },
  {
   "cell_type": "code",
   "execution_count": 6,
   "id": "7024371d",
   "metadata": {},
   "outputs": [],
   "source": [
    "b = np.array([[1, 2, 3], \n",
    "              [4, 5, 6], \n",
    "              [7, 8, 9]])"
   ]
  },
  {
   "cell_type": "code",
   "execution_count": 7,
   "id": "e013a1d0",
   "metadata": {},
   "outputs": [
    {
     "data": {
      "text/plain": [
       "np.int64(6)"
      ]
     },
     "execution_count": 7,
     "metadata": {},
     "output_type": "execute_result"
    }
   ],
   "source": [
    "b[1,2]"
   ]
  },
  {
   "cell_type": "code",
   "execution_count": 8,
   "id": "6c97d11a",
   "metadata": {},
   "outputs": [
    {
     "data": {
      "text/plain": [
       "np.int64(7)"
      ]
     },
     "execution_count": 8,
     "metadata": {},
     "output_type": "execute_result"
    }
   ],
   "source": [
    "b[2,0]"
   ]
  },
  {
   "cell_type": "code",
   "execution_count": 9,
   "id": "6666cdbe",
   "metadata": {},
   "outputs": [
    {
     "data": {
      "text/plain": [
       "array([3, 6])"
      ]
     },
     "execution_count": 9,
     "metadata": {},
     "output_type": "execute_result"
    }
   ],
   "source": [
    "b[0:2,2]"
   ]
  },
  {
   "cell_type": "code",
   "execution_count": 31,
   "id": "7264dd5f",
   "metadata": {},
   "outputs": [
    {
     "data": {
      "text/plain": [
       "array([7, 8, 9])"
      ]
     },
     "execution_count": 31,
     "metadata": {},
     "output_type": "execute_result"
    }
   ],
   "source": [
    "b[-1]"
   ]
  },
  {
   "cell_type": "code",
   "execution_count": 11,
   "id": "299809fd",
   "metadata": {},
   "outputs": [
    {
     "data": {
      "text/plain": [
       "array([7, 8])"
      ]
     },
     "execution_count": 11,
     "metadata": {},
     "output_type": "execute_result"
    }
   ],
   "source": [
    "b[-1, 0:2]"
   ]
  },
  {
   "cell_type": "code",
   "execution_count": null,
   "id": "b34ace92",
   "metadata": {},
   "outputs": [
    {
     "data": {
      "text/plain": [
       "array([[1, 2, 3],\n",
       "       [4, 5, 6],\n",
       "       [7, 8, 9]])"
      ]
     },
     "execution_count": 32,
     "metadata": {},
     "output_type": "execute_result"
    }
   ],
   "source": [
    "b[:] # returns the whole array"
   ]
  },
  {
   "cell_type": "code",
   "execution_count": 12,
   "id": "1470d3ee",
   "metadata": {},
   "outputs": [
    {
     "data": {
      "text/plain": [
       "array([[2, 3],\n",
       "       [5, 6],\n",
       "       [8, 9]])"
      ]
     },
     "execution_count": 12,
     "metadata": {},
     "output_type": "execute_result"
    }
   ],
   "source": [
    "b[:, 1:3]"
   ]
  },
  {
   "cell_type": "markdown",
   "id": "c58d1629",
   "metadata": {},
   "source": [
    "### vstack, hstack"
   ]
  },
  {
   "cell_type": "code",
   "execution_count": 13,
   "id": "92b45b1f",
   "metadata": {},
   "outputs": [],
   "source": [
    "# Customer ID, Name\n",
    "c = np.array([\n",
    "    [101, 'Mira'],\n",
    "    [102, 'Abdul'],\n",
    "    [103, 'Andrea']\n",
    "])\n",
    "# Customer Id, Purchase Amount, Purchase Date\n",
    "d = np.array([\n",
    "    [101, 250.50, '2023-08-01'],\n",
    "    [102, 150.00, '2023-08-02'],\n",
    "    [103, 300.75, '2023-08-01']\n",
    "])"
   ]
  },
  {
   "cell_type": "code",
   "execution_count": null,
   "id": "56a41935",
   "metadata": {},
   "outputs": [
    {
     "data": {
      "text/plain": [
       "array([['101', 'Mira', '101', '250.5', '2023-08-01'],\n",
       "       ['102', 'Abdul', '102', '150.0', '2023-08-02'],\n",
       "       ['103', 'Andrea', '103', '300.75', '2023-08-01']], dtype='<U32')"
      ]
     },
     "execution_count": 14,
     "metadata": {},
     "output_type": "execute_result"
    }
   ],
   "source": [
    "np.hstack((c, d)) # Horizontal stacking of arrays"
   ]
  },
  {
   "cell_type": "code",
   "execution_count": 15,
   "id": "8889329f",
   "metadata": {},
   "outputs": [
    {
     "data": {
      "text/plain": [
       "array([['101', 'Mira'],\n",
       "       ['102', 'Abdul'],\n",
       "       ['103', 'Andrea']], dtype='<U21')"
      ]
     },
     "execution_count": 15,
     "metadata": {},
     "output_type": "execute_result"
    }
   ],
   "source": [
    "c"
   ]
  },
  {
   "cell_type": "code",
   "execution_count": 16,
   "id": "2ff7f728",
   "metadata": {},
   "outputs": [],
   "source": [
    "e = np.array([\n",
    "    [104, 'Venkat'],\n",
    "    [105, 'John'],\n",
    "    [106, 'Kathy'],\n",
    "])"
   ]
  },
  {
   "cell_type": "code",
   "execution_count": null,
   "id": "f8eb8ea4",
   "metadata": {
    "scrolled": true
   },
   "outputs": [
    {
     "data": {
      "text/plain": [
       "array([['101', 'Mira'],\n",
       "       ['102', 'Abdul'],\n",
       "       ['103', 'Andrea'],\n",
       "       ['104', 'Venkat'],\n",
       "       ['105', 'John'],\n",
       "       ['106', 'Kathy']], dtype='<U21')"
      ]
     },
     "execution_count": 17,
     "metadata": {},
     "output_type": "execute_result"
    }
   ],
   "source": [
    "f = np.vstack((c,e)) # Vertical stacking of arrays\n",
    "f"
   ]
  },
  {
   "cell_type": "markdown",
   "id": "8624b43e",
   "metadata": {},
   "source": [
    "### vsplit, hsplit"
   ]
  },
  {
   "cell_type": "code",
   "execution_count": null,
   "id": "ba36a6dd",
   "metadata": {},
   "outputs": [
    {
     "data": {
      "text/plain": [
       "[array([['101', 'Mohan', '250.5'],\n",
       "        ['102', 'Bob', '150.0'],\n",
       "        ['103', 'Fatima', '300.75'],\n",
       "        ['104', 'David', '400.2'],\n",
       "        ['105', 'Aryan', '330.1']], dtype='<U32'),\n",
       " array([['2023-08-01'],\n",
       "        ['2023-08-02'],\n",
       "        ['2023-08-01'],\n",
       "        ['2023-08-03'],\n",
       "        ['2023-08-04']], dtype='<U32')]"
      ]
     },
     "execution_count": 18,
     "metadata": {},
     "output_type": "execute_result"
    }
   ],
   "source": [
    "transactions = np.array([\n",
    "    [101, 'Mohan', 250.50, '2023-08-01'],\n",
    "    [102, 'Bob', 150.00, '2023-08-02'],\n",
    "    [103, 'Fatima', 300.75, '2023-08-01'],\n",
    "    [104, 'David', 400.20, '2023-08-03'],\n",
    "    [105, 'Aryan', 330.1, '2023-08-04'],\n",
    "])\n",
    "\n",
    "np.hsplit(transactions, [3]) # Split the array into two parts at index 3 means split after the third column"
   ]
  },
  {
   "cell_type": "code",
   "execution_count": 33,
   "id": "9d086c5e",
   "metadata": {},
   "outputs": [
    {
     "data": {
      "text/plain": [
       "array([['101', 'Mohan', '250.5'],\n",
       "       ['102', 'Bob', '150.0'],\n",
       "       ['103', 'Fatima', '300.75'],\n",
       "       ['104', 'David', '400.2'],\n",
       "       ['105', 'Aryan', '330.1']], dtype='<U32')"
      ]
     },
     "execution_count": 33,
     "metadata": {},
     "output_type": "execute_result"
    }
   ],
   "source": [
    "a , b = np.hsplit(transactions, [3]) \n",
    "a"
   ]
  },
  {
   "cell_type": "code",
   "execution_count": 34,
   "id": "52714bbd",
   "metadata": {},
   "outputs": [
    {
     "data": {
      "text/plain": [
       "array([['2023-08-01'],\n",
       "       ['2023-08-02'],\n",
       "       ['2023-08-01'],\n",
       "       ['2023-08-03'],\n",
       "       ['2023-08-04']], dtype='<U32')"
      ]
     },
     "execution_count": 34,
     "metadata": {},
     "output_type": "execute_result"
    }
   ],
   "source": [
    "b"
   ]
  },
  {
   "cell_type": "code",
   "execution_count": null,
   "id": "814610c1",
   "metadata": {},
   "outputs": [
    {
     "data": {
      "text/plain": [
       "[array([['101', 'Mohan', '250.5', '2023-08-01'],\n",
       "        ['102', 'Bob', '150.0', '2023-08-02'],\n",
       "        ['103', 'Fatima', '300.75', '2023-08-01'],\n",
       "        ['104', 'David', '400.2', '2023-08-03']], dtype='<U32'),\n",
       " array([['105', 'Aryan', '330.1', '2023-08-04']], dtype='<U32')]"
      ]
     },
     "execution_count": 19,
     "metadata": {},
     "output_type": "execute_result"
    }
   ],
   "source": [
    "np.vsplit(transactions, [4]) # Split the array into two parts at index 4 means split after the fourth row"
   ]
  },
  {
   "cell_type": "markdown",
   "id": "8f4842aa",
   "metadata": {},
   "source": [
    "### Boolean operations"
   ]
  },
  {
   "cell_type": "code",
   "execution_count": null,
   "id": "6aa9a5d2",
   "metadata": {},
   "outputs": [
    {
     "data": {
      "text/plain": [
       "array([ True, False, False,  True, False])"
      ]
     },
     "execution_count": 20,
     "metadata": {},
     "output_type": "execute_result"
    }
   ],
   "source": [
    "monthly_sales = np.array([30, 33, 35, 28, 42]) # [jan, feb, mar, apr, may] \n",
    "\n",
    "result = monthly_sales < 32 # Boolean indexing to filter values less than 32\n",
    "result"
   ]
  },
  {
   "cell_type": "code",
   "execution_count": null,
   "id": "4d2caa2f",
   "metadata": {},
   "outputs": [
    {
     "data": {
      "text/plain": [
       "array([30, 28])"
      ]
     },
     "execution_count": 21,
     "metadata": {},
     "output_type": "execute_result"
    }
   ],
   "source": [
    "monthly_sales[result] # Returns the values less than 32 from the monthly_sales array"
   ]
  },
  {
   "cell_type": "code",
   "execution_count": 22,
   "id": "8b31f35e",
   "metadata": {},
   "outputs": [
    {
     "data": {
      "text/plain": [
       "array([-1, 33, 35, -1, 42])"
      ]
     },
     "execution_count": 22,
     "metadata": {},
     "output_type": "execute_result"
    }
   ],
   "source": [
    "monthly_sales[result] = -1\n",
    "monthly_sales"
   ]
  },
  {
   "cell_type": "markdown",
   "id": "0ce1e488",
   "metadata": {},
   "source": [
    "### Argmax"
   ]
  },
  {
   "cell_type": "code",
   "execution_count": 35,
   "id": "9f886faa",
   "metadata": {},
   "outputs": [
    {
     "data": {
      "text/plain": [
       "np.int64(42)"
      ]
     },
     "execution_count": 35,
     "metadata": {},
     "output_type": "execute_result"
    }
   ],
   "source": [
    "monthly_sales.max() # Returns the maximum value in the array"
   ]
  },
  {
   "cell_type": "code",
   "execution_count": 36,
   "id": "b4328537",
   "metadata": {},
   "outputs": [
    {
     "data": {
      "text/plain": [
       "np.int64(4)"
      ]
     },
     "execution_count": 36,
     "metadata": {},
     "output_type": "execute_result"
    }
   ],
   "source": [
    "np.argmax(monthly_sales) # Returns the index of the maximum value in the array"
   ]
  },
  {
   "cell_type": "code",
   "execution_count": null,
   "id": "8aa72356",
   "metadata": {},
   "outputs": [
    {
     "data": {
      "text/plain": [
       "np.int64(4)"
      ]
     },
     "execution_count": 23,
     "metadata": {},
     "output_type": "execute_result"
    }
   ],
   "source": [
    "index = np.argmax(monthly_sales) \n",
    "index"
   ]
  },
  {
   "cell_type": "code",
   "execution_count": null,
   "id": "15f500e8",
   "metadata": {
    "scrolled": true
   },
   "outputs": [
    {
     "data": {
      "text/plain": [
       "np.int64(42)"
      ]
     },
     "execution_count": 24,
     "metadata": {},
     "output_type": "execute_result"
    }
   ],
   "source": [
    "monthly_sales[4] # Accessing the value at index 4 "
   ]
  },
  {
   "cell_type": "markdown",
   "id": "9f36de6d",
   "metadata": {},
   "source": [
    "#### Now print a transaction with a maximum amount"
   ]
  },
  {
   "cell_type": "code",
   "execution_count": 25,
   "id": "0f21f0ac",
   "metadata": {},
   "outputs": [
    {
     "data": {
      "text/plain": [
       "array([['101', 'Mohan', '250.5', '2023-08-01'],\n",
       "       ['102', 'Bob', '150.0', '2023-08-02'],\n",
       "       ['103', 'Fatima', '300.75', '2023-08-01'],\n",
       "       ['104', 'David', '400.2', '2023-08-03'],\n",
       "       ['105', 'Aryan', '330.1', '2023-08-04']], dtype='<U32')"
      ]
     },
     "execution_count": 25,
     "metadata": {},
     "output_type": "execute_result"
    }
   ],
   "source": [
    "transactions"
   ]
  },
  {
   "cell_type": "code",
   "execution_count": 26,
   "id": "3cbc74a5",
   "metadata": {},
   "outputs": [
    {
     "data": {
      "text/plain": [
       "array(['250.5', '150.0', '300.75', '400.2', '330.1'], dtype='<U32')"
      ]
     },
     "execution_count": 26,
     "metadata": {},
     "output_type": "execute_result"
    }
   ],
   "source": [
    "transactions[:,2]"
   ]
  },
  {
   "cell_type": "code",
   "execution_count": null,
   "id": "9783a053",
   "metadata": {},
   "outputs": [
    {
     "data": {
      "text/plain": [
       "numpy.ndarray"
      ]
     },
     "execution_count": 37,
     "metadata": {},
     "output_type": "execute_result"
    }
   ],
   "source": [
    "type(transactions[:,2]) \n",
    "# this is string type , so perform max operation we need to convert it to float"
   ]
  },
  {
   "cell_type": "code",
   "execution_count": null,
   "id": "7b4a108c",
   "metadata": {},
   "outputs": [
    {
     "data": {
      "text/plain": [
       "array([250.5 , 150.  , 300.75, 400.2 , 330.1 ])"
      ]
     },
     "execution_count": 27,
     "metadata": {},
     "output_type": "execute_result"
    }
   ],
   "source": [
    "transactions[:,2].astype(float) # converting to float"
   ]
  },
  {
   "cell_type": "code",
   "execution_count": 28,
   "id": "1e76385b",
   "metadata": {},
   "outputs": [
    {
     "data": {
      "text/plain": [
       "np.int64(3)"
      ]
     },
     "execution_count": 28,
     "metadata": {},
     "output_type": "execute_result"
    }
   ],
   "source": [
    "t_index = np.argmax(transactions[:,2].astype(float))\n",
    "t_index"
   ]
  },
  {
   "cell_type": "code",
   "execution_count": 29,
   "id": "8d2d7f57",
   "metadata": {},
   "outputs": [
    {
     "data": {
      "text/plain": [
       "array(['104', 'David', '400.2', '2023-08-03'], dtype='<U32')"
      ]
     },
     "execution_count": 29,
     "metadata": {},
     "output_type": "execute_result"
    }
   ],
   "source": [
    "transactions[t_index]"
   ]
  },
  {
   "cell_type": "code",
   "execution_count": 39,
   "id": "0cddd963",
   "metadata": {},
   "outputs": [
    {
     "data": {
      "text/plain": [
       "array(['101', '102', '103', '104', '105'], dtype='<U32')"
      ]
     },
     "execution_count": 39,
     "metadata": {},
     "output_type": "execute_result"
    }
   ],
   "source": [
    "transactions[:,0] # prints all the transaction ids"
   ]
  },
  {
   "cell_type": "code",
   "execution_count": null,
   "id": "b0e49148",
   "metadata": {},
   "outputs": [
    {
     "data": {
      "text/plain": [
       "array([['101', 'Mohan', '250.5', '2023-08-01']], dtype='<U32')"
      ]
     },
     "execution_count": 30,
     "metadata": {},
     "output_type": "execute_result"
    }
   ],
   "source": [
    "transactions[transactions[:,0]==\"101\"] # returns the given id and the the values to it"
   ]
  }
 ],
 "metadata": {
  "kernelspec": {
   "display_name": "Python 3",
   "language": "python",
   "name": "python3"
  },
  "language_info": {
   "codemirror_mode": {
    "name": "ipython",
    "version": 3
   },
   "file_extension": ".py",
   "mimetype": "text/x-python",
   "name": "python",
   "nbconvert_exporter": "python",
   "pygments_lexer": "ipython3",
   "version": "3.13.6"
  }
 },
 "nbformat": 4,
 "nbformat_minor": 5
}
