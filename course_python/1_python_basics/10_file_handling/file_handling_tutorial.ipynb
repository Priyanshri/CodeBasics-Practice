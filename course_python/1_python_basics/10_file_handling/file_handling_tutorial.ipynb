{
 "cells": [
  {
   "cell_type": "markdown",
   "id": "e7a71dea",
   "metadata": {},
   "source": [
    "### Read the file line by line"
   ]
  },
  {
   "cell_type": "code",
   "execution_count": 1,
   "id": "226c0404",
   "metadata": {},
   "outputs": [
    {
     "name": "stdout",
     "output_type": "stream",
     "text": [
      "Teacher: Why are you late, raghu?\n",
      "\n",
      "Raghu: Because of the sign\n",
      "\n",
      "Teacher: What sign?\n",
      "\n",
      "Raghu: The one that says \"School Ahead, Go slow\"\n"
     ]
    }
   ],
   "source": [
    "# read file\n",
    "f=open(\"funny.txt\",\"r\")\n",
    "for line in f:\n",
    "    print(line)\n",
    "f.close()"
   ]
  },
  {
   "cell_type": "markdown",
   "id": "9ef31259",
   "metadata": {},
   "source": [
    "In the above code you have to do f.close() to deallocate file resource. Sometimes a person may forget to do this. Python provides an easier method for this using with"
   ]
  },
  {
   "cell_type": "markdown",
   "id": "c586fc51",
   "metadata": {},
   "source": [
    "### with statement"
   ]
  },
  {
   "cell_type": "code",
   "execution_count": 2,
   "id": "6ff14768",
   "metadata": {},
   "outputs": [
    {
     "name": "stdout",
     "output_type": "stream",
     "text": [
      "Teacher: Why are you late, raghu?\n",
      "\n",
      "Raghu: Because of the sign\n",
      "\n",
      "Teacher: What sign?\n",
      "\n",
      "Raghu: The one that says \"School Ahead, Go slow\"\n"
     ]
    }
   ],
   "source": [
    "with open(\"funny.txt\",\"r\") as f:\n",
    "    for line in f:\n",
    "        print(line)"
   ]
  },
  {
   "cell_type": "markdown",
   "id": "ab9eaaf9",
   "metadata": {},
   "source": [
    "### readlines"
   ]
  },
  {
   "cell_type": "code",
   "execution_count": 3,
   "id": "7d5ccfdd",
   "metadata": {},
   "outputs": [
    {
     "name": "stdout",
     "output_type": "stream",
     "text": [
      "['Teacher: Why are you late, raghu?\\n', 'Raghu: Because of the sign\\n', 'Teacher: What sign?\\n', 'Raghu: The one that says \"School Ahead, Go slow\"']\n"
     ]
    }
   ],
   "source": [
    "with open(\"funny.txt\",\"r\") as f:\n",
    "    lines = f.readlines()\n",
    "    print(lines)\n",
    "#it creates a list where each element is a line from the file"
   ]
  },
  {
   "cell_type": "code",
   "execution_count": 4,
   "id": "f32236c3",
   "metadata": {},
   "outputs": [
    {
     "name": "stdout",
     "output_type": "stream",
     "text": [
      "Teacher: Why are you late, raghu?\n",
      "\n",
      "Raghu: Because of the sign\n",
      "\n",
      "Teacher: What sign?\n",
      "\n",
      "Raghu: The one that says \"School Ahead, Go slow\"\n"
     ]
    }
   ],
   "source": [
    "#to iterate over the lines in a file\n",
    "for line in lines:\n",
    "    print(line)"
   ]
  },
  {
   "cell_type": "markdown",
   "id": "5b1b0630",
   "metadata": {},
   "source": [
    "### Creating and writing file"
   ]
  },
  {
   "cell_type": "code",
   "execution_count": null,
   "id": "26ab0915",
   "metadata": {},
   "outputs": [],
   "source": [
    "#here \"w\" mode is used to write a file, if the file already exists it will be overwritten\n",
    "with open(\"love.txt\",\"w\") as f:\n",
    "    f.write(\"I love python\\n\")\n",
    "    f.write(\"I love programming\\n\")"
   ]
  },
  {
   "cell_type": "code",
   "execution_count": null,
   "id": "0e002940",
   "metadata": {},
   "outputs": [],
   "source": [
    "#here \"a\" mode is used to append to a file and prevent from override issue , if the file does not exist it will be created\n",
    "with open(\"love.txt\",\"a\") as f:\n",
    "    f.write(\"I love pip\")"
   ]
  },
  {
   "cell_type": "markdown",
   "id": "c1c967e5",
   "metadata": {},
   "source": [
    "### writelines"
   ]
  },
  {
   "cell_type": "code",
   "execution_count": null,
   "id": "f7b5e760",
   "metadata": {},
   "outputs": [],
   "source": [
    "with open(\"love.txt\",\"a\") as f:\n",
    "    f.writelines([\"I love C++\\n\",\"I love scala\"])\n",
    "\n",
    "#this code takes a list and writes each element is a new line "
   ]
  },
  {
   "cell_type": "markdown",
   "id": "9192ed88",
   "metadata": {},
   "source": [
    "### sports data analytics (Ex:)"
   ]
  },
  {
   "cell_type": "markdown",
   "id": "4beff4da",
   "metadata": {},
   "source": [
    "Here we have a list of analysis of players and their matches and their scores in **scores.csv** file."
   ]
  },
  {
   "cell_type": "code",
   "execution_count": 16,
   "id": "addb465a",
   "metadata": {},
   "outputs": [
    {
     "name": "stdout",
     "output_type": "stream",
     "text": [
      "rohit,match#1,9\n",
      "\n",
      "shakib,match#2,56\n",
      "\n",
      "babar,match#3,56\n",
      "\n",
      "rohit,match#4,120\n",
      "\n",
      "rohit,match#5,105\n",
      "\n",
      "shakib,match#6,78\n",
      "\n",
      "rohit,match#7,140\n",
      "\n",
      "babar,match#8,45\n",
      "\n",
      "rohit,match#9,130\n",
      "\n",
      "shakib,match#10,102\n",
      "\n",
      "babar,match#11,120\n",
      "\n",
      "babar,match#12,5\n",
      "\n",
      "shakib,match#13,72\n",
      "\n",
      "babar,match#14,67\n",
      "\n"
     ]
    }
   ],
   "source": [
    "with open(\"scores.csv\" , \"r\") as f:\n",
    "    for line in f:\n",
    "        print(line)"
   ]
  },
  {
   "cell_type": "markdown",
   "id": "0ff87dc8",
   "metadata": {},
   "source": [
    "We want to know max score or min score of players in the list. So for that we have to create a array of scores of player, then put the min or max function to calculate that. \n",
    "\n",
    "But we have list of players with different scores. So we have to create a Dictionary which have players as keys and scores( of each player as an array) as value . And then put the min or max function to calculate the max or min score of players in the list."
   ]
  },
  {
   "cell_type": "code",
   "execution_count": 18,
   "id": "c943b4d3",
   "metadata": {},
   "outputs": [
    {
     "data": {
      "text/plain": [
       "140"
      ]
     },
     "execution_count": 18,
     "metadata": {},
     "output_type": "execute_result"
    }
   ],
   "source": [
    "d ={\n",
    "    'rohit': [9, 120, 105, 140, 130],\n",
    "    'shakib': [56, 78, 102, 72],\n",
    "    'babar': [56, 45, 120, 5, 67]\n",
    "}\n",
    "max(d['rohit'])  \n"
   ]
  },
  {
   "cell_type": "markdown",
   "id": "889ce8cb",
   "metadata": {},
   "source": [
    "Now instead of doing manually we created a loop to read file and create the above like dictionary structure."
   ]
  },
  {
   "cell_type": "code",
   "execution_count": 20,
   "id": "0b952f46",
   "metadata": {},
   "outputs": [
    {
     "data": {
      "text/plain": [
       "{'rohit': [9, 120, 105, 140, 130],\n",
       " 'shakib': [56, 78, 102, 72],\n",
       " 'babar': [56, 45, 120, 5, 67]}"
      ]
     },
     "execution_count": 20,
     "metadata": {},
     "output_type": "execute_result"
    }
   ],
   "source": [
    "player_scores = {}\n",
    "\n",
    "with open(\"scores.csv\",\"r\") as f:\n",
    "    for line in f:\n",
    "        player, _, score = line.split(\",\") # split the line into player name, match, and score and here _ is used to ignore the match part\n",
    "        score = int(score.strip()) # convert the score to integer and remove the newline character (/n) if present\n",
    "        if player in player_scores:\n",
    "            player_scores[player].append(score)\n",
    "        else:\n",
    "            player_scores[player] = [score]\n",
    "            \n",
    "player_scores"
   ]
  },
  {
   "cell_type": "markdown",
   "id": "f21223fc",
   "metadata": {},
   "source": [
    "Calculating min , max , average of each player's score."
   ]
  },
  {
   "cell_type": "code",
   "execution_count": 21,
   "id": "d4be5946",
   "metadata": {
    "scrolled": true
   },
   "outputs": [
    {
     "name": "stdout",
     "output_type": "stream",
     "text": [
      "rohit ==> Min:9, Max:140, Avg:100.8\n",
      "shakib ==> Min:56, Max:102, Avg:77.0\n",
      "babar ==> Min:5, Max:120, Avg:58.6\n"
     ]
    }
   ],
   "source": [
    "for player, score_list in player_scores.items():\n",
    "    min_score=min(score_list)\n",
    "    max_score=max(score_list)\n",
    "    avg_score=sum(score_list)/len(score_list)\n",
    "\n",
    "    print(f\"{player} ==> Min:{min_score}, Max:{max_score}, Avg:{avg_score}\")"
   ]
  },
  {
   "cell_type": "markdown",
   "id": "0d1ace97",
   "metadata": {},
   "source": [
    "### remove file"
   ]
  },
  {
   "cell_type": "code",
   "execution_count": 26,
   "id": "7249934b",
   "metadata": {},
   "outputs": [],
   "source": [
    "with open(\"dummy.txt\",\"x\") as f: #here \"x\" mode is used to create a new file, if the file already exists it will raise an error\n",
    "    f.write(\"whatever\")"
   ]
  },
  {
   "cell_type": "code",
   "execution_count": 27,
   "id": "124e5f1e",
   "metadata": {},
   "outputs": [],
   "source": [
    "import os\n",
    "if os.path.exists(\"dummy.txt\"):\n",
    "    os.remove(\"dummy.txt\")\n",
    "else:\n",
    "    print(\"file does not exist\")"
   ]
  }
 ],
 "metadata": {
  "kernelspec": {
   "display_name": "Python 3",
   "language": "python",
   "name": "python3"
  },
  "language_info": {
   "codemirror_mode": {
    "name": "ipython",
    "version": 3
   },
   "file_extension": ".py",
   "mimetype": "text/x-python",
   "name": "python",
   "nbconvert_exporter": "python",
   "pygments_lexer": "ipython3",
   "version": "3.13.6"
  }
 },
 "nbformat": 4,
 "nbformat_minor": 5
}
